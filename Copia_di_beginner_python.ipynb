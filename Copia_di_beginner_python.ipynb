{
  "nbformat": 4,
  "nbformat_minor": 0,
  "metadata": {
    "kernelspec": {
      "name": "python3",
      "display_name": "Python 3"
    },
    "colab": {
      "name": "Copia di beginner_python.ipynb",
      "provenance": [],
      "collapsed_sections": [],
      "include_colab_link": true
    }
  },
  "cells": [
    {
      "cell_type": "markdown",
      "metadata": {
        "id": "view-in-github",
        "colab_type": "text"
      },
      "source": [
        "<a href=\"https://colab.research.google.com/github/depersisc/Python-scripts/blob/master/Copia_di_beginner_python.ipynb\" target=\"_parent\"><img src=\"https://colab.research.google.com/assets/colab-badge.svg\" alt=\"Open In Colab\"/></a>"
      ]
    },
    {
      "cell_type": "markdown",
      "metadata": {
        "collapsed": true,
        "id": "T8DawhULYISk"
      },
      "source": [
        "# Case Study 6.1 - NYC Taxi Trips"
      ]
    },
    {
      "cell_type": "markdown",
      "metadata": {
        "id": "qw0O_BetYISl"
      },
      "source": [
        "<h1 style=\"color:red;\">Note: If you close this notebook at any time, you will have to run all cells again upon re-opening it.</h1>\n",
        "\n",
        "<h1 style=\"color:red;\">Note: You may get different numerical results running the notebook different times. This is to be expected, you can just report whatever results you get.</h1>"
      ]
    },
    {
      "cell_type": "markdown",
      "metadata": {
        "id": "kzxmC_VaYISm"
      },
      "source": [
        "# BEGINNER PYTHON"
      ]
    },
    {
      "cell_type": "markdown",
      "metadata": {
        "id": "5KFuhBUiYISm"
      },
      "source": [
        "As this is a beginner version, we include a lot of code here to help you along the way.\n",
        "\n",
        "**First, fill in your identification information below. Then, you only have to type in the answers to the questions we ask you. For the rest of the cells, just Run them by pressing the \"Run\" button above.**"
      ]
    },
    {
      "cell_type": "markdown",
      "metadata": {
        "id": "132JvZ-wYISn"
      },
      "source": [
        "# Identification Information\n",
        "\n",
        "You can find your MITxPro username on this [page](https://courses.xpro.mit.edu/courses/course-v1:xPRO+DSx+R14/progress) and copying the username in quotations after it says \"Student\". For example, Kevin's username is \"kevin-lyons\".\n",
        "\n",
        "**Please use the correct username and the e-mail address right next to it as it makes it much easier for course staff to identify your notebook.**\n",
        "\n",
        "![image.png](data:image/png;base64,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)"
      ]
    },
    {
      "cell_type": "markdown",
      "metadata": {
        "id": "8AhpOdI-YISn"
      },
      "source": [
        "**YOUR NAME**              = fill in here\n",
        "\n",
        "**YOUR MITX PRO USERNAME** = fill in here\n",
        "\n",
        "**YOUR MITX PRO E-MAIL**   = fill in here"
      ]
    },
    {
      "cell_type": "markdown",
      "metadata": {
        "id": "EwOZllAJYISq"
      },
      "source": [
        "# Setup"
      ]
    },
    {
      "cell_type": "markdown",
      "metadata": {
        "id": "VJuCQvr8YISr"
      },
      "source": [
        "Run these cells to install all the packages you need to complete the remainder of the case study. This may take a few minutes, so please be patient.\n",
        "\n",
        "<h1 style=\"color:red;\">Note: You may see red errors when you run the cell below. As long as you can run the Import cell 2 cells below and see \"Install successful!\" and \"Import successful!\", you can continue with the case study.</h1>"
      ]
    },
    {
      "cell_type": "code",
      "metadata": {
        "trusted": true,
        "id": "QSA0Nf82YISr",
        "outputId": "5a9d32a8-5d6a-4b64-b8a2-b7dba188f40d",
        "colab": {
          "base_uri": "https://localhost:8080/"
        }
      },
      "source": [
        "!pip install -q --upgrade pip\n",
        "!pip install -q featuretools==0.1.19 --use-feature=2020-resolver\n",
        "!pip uninstall -y pandas\n",
        "!pip install -q pandas==0.20.3 --use-feature=2020-resolver\n",
        "print('Install successful!')"
      ],
      "execution_count": null,
      "outputs": [
        {
          "output_type": "stream",
          "text": [
            "\u001b[K     |████████████████████████████████| 1.5MB 9.4MB/s \n",
            "\u001b[K     |████████████████████████████████| 133 kB 9.9 MB/s \n",
            "\u001b[K     |████████████████████████████████| 178 kB 18.2 MB/s \n",
            "\u001b[K     |████████████████████████████████| 91 kB 6.9 MB/s \n",
            "\u001b[K     |████████████████████████████████| 45 kB 3.0 MB/s \n",
            "\u001b[K     |████████████████████████████████| 1.3 MB 20.1 MB/s \n",
            "\u001b[K     |████████████████████████████████| 6.5 MB 8.1 MB/s \n",
            "\u001b[K     |████████████████████████████████| 141 kB 65.1 MB/s \n",
            "\u001b[K     |████████████████████████████████| 295 kB 58.7 MB/s \n",
            "\u001b[K     |████████████████████████████████| 547 kB 63.8 MB/s \n",
            "\u001b[?25h  Building wheel for featuretools (setup.py) ... \u001b[?25l\u001b[?25hdone\n",
            "  Building wheel for pympler (setup.py) ... \u001b[?25l\u001b[?25hdone\n",
            "  Building wheel for idna-ssl (setup.py) ... \u001b[?25l\u001b[?25hdone\n",
            "\u001b[31mERROR: datascience 0.10.6 requires folium==0.2.1, but you'll have folium 0.8.3 which is incompatible.\u001b[0m\n",
            "Found existing installation: pandas 1.1.4\n",
            "Uninstalling pandas-1.1.4:\n",
            "  Successfully uninstalled pandas-1.1.4\n",
            "\u001b[K     |████████████████████████████████| 24.5 MB 47 kB/s \n",
            "\u001b[31mERROR: xarray 0.15.1 requires pandas>=0.25, but you'll have pandas 0.20.3 which is incompatible.\n",
            "seaborn 0.11.0 requires pandas>=0.23, but you'll have pandas 0.20.3 which is incompatible.\n",
            "plotnine 0.6.0 requires pandas>=0.25.0, but you'll have pandas 0.20.3 which is incompatible.\n",
            "pandas-datareader 0.9.0 requires pandas>=0.23, but you'll have pandas 0.20.3 which is incompatible.\n",
            "mizani 0.6.0 requires pandas>=0.25.0, but you'll have pandas 0.20.3 which is incompatible.\n",
            "google-colab 1.0.0 requires pandas~=1.1.0; python_version >= \"3.0\", but you'll have pandas 0.20.3 which is incompatible.\n",
            "fbprophet 0.7.1 requires pandas>=1.0.4, but you'll have pandas 0.20.3 which is incompatible.\u001b[0m\n",
            "\u001b[?25hInstall successful!\n"
          ],
          "name": "stdout"
        }
      ]
    },
    {
      "cell_type": "markdown",
      "metadata": {
        "id": "U5CQdU8CcNGI"
      },
      "source": [
        "<h1>Now, you have to restart the runtime by clicking Runtime > Restart Runtime at the top of the page. This will ensure our changes take effect.</h1>"
      ]
    },
    {
      "cell_type": "markdown",
      "metadata": {
        "id": "gmbPgie8YISu"
      },
      "source": [
        "# Import"
      ]
    },
    {
      "cell_type": "markdown",
      "metadata": {
        "id": "RRHO41dmYISu"
      },
      "source": [
        "Import the required tools into the notebook."
      ]
    },
    {
      "cell_type": "code",
      "metadata": {
        "id": "vW2beiS8YeUW"
      },
      "source": [
        "from google.colab import auth\n",
        "auth.authenticate_user()\n",
        "\n",
        "from pydrive.auth import GoogleAuth\n",
        "from pydrive.drive import GoogleDrive\n",
        "from google.colab import auth\n",
        "from oauth2client.client import GoogleCredentials\n",
        "\n",
        "gauth = GoogleAuth()\n",
        "gauth.credentials = GoogleCredentials.get_application_default()\n",
        "drive = GoogleDrive(gauth)\n",
        "gauth.credentials = GoogleCredentials.get_application_default()\n",
        "drive = GoogleDrive(gauth)\n",
        "data_drop = drive.CreateFile({'id':'1OtzpLNq_s8UtWQgPXJEQX6ejJ92lEwkH'})\n",
        "data_drop.GetContentFile('dropoff_neighborhoods.csv')\n",
        "data_pick = drive.CreateFile({'id':'1CE8P9xjJYirrE3sN3xPp-Cc9wKYoNGxU'})\n",
        "data_pick.GetContentFile('pickup_neighborhoods.csv')\n",
        "data_trips = drive.CreateFile({'id':'19kUSme4S1hfcUJn3JovQd_mvw54il1QI'})\n",
        "data_trips.GetContentFile('trips.pkl')\n",
        "utils_file = drive.CreateFile({'id':'1_2324HvTia9NVkKY-j4RgWncct6gVnyi'})\n",
        "utils_file.GetContentFile('utils.py')"
      ],
      "execution_count": null,
      "outputs": []
    },
    {
      "cell_type": "code",
      "metadata": {
        "trusted": true,
        "id": "IbgG-QlXYISv",
        "outputId": "31d1a075-b458-4db8-8743-5cafeefd895c",
        "colab": {
          "base_uri": "https://localhost:8080/"
        }
      },
      "source": [
        "import featuretools as ft\n",
        "import matplotlib\n",
        "import matplotlib.pyplot as plt\n",
        "import numpy as np\n",
        "import pandas as pd\n",
        "import utils\n",
        "from featuretools.primitives import (Count, Day, Hour, Max, Mean, Median, Min,\n",
        "                                     Minute, Month, Std, Sum, Week, Weekday,\n",
        "                                     Weekend)\n",
        "from sklearn.ensemble import GradientBoostingRegressor\n",
        "from utils import (compute_features, feature_importances, load_nyc_taxi_data,\n",
        "                   preview)\n",
        "%matplotlib inline\n",
        "\n",
        "print('Import successful!')"
      ],
      "execution_count": null,
      "outputs": [
        {
          "output_type": "stream",
          "text": [
            "Import successful!\n"
          ],
          "name": "stdout"
        }
      ]
    },
    {
      "cell_type": "code",
      "metadata": {
        "trusted": true,
        "id": "VTriqdcEYISy"
      },
      "source": [
        "assert ft.__version__ == '0.1.19', 'Make sure you run the command above with the correct version.'\n",
        "assert pd.__version__ == '0.20.3', 'Make sure you run the command above with the correct version, AND restarted the runtime.'"
      ],
      "execution_count": null,
      "outputs": []
    },
    {
      "cell_type": "markdown",
      "metadata": {
        "id": "R6tQTflfYIS2"
      },
      "source": [
        "# Data"
      ]
    },
    {
      "cell_type": "markdown",
      "metadata": {
        "id": "gi6U300bYIS2"
      },
      "source": [
        "Load the NYC taxi trip data. Note that this may take a minute or two, so please be patient."
      ]
    },
    {
      "cell_type": "code",
      "metadata": {
        "trusted": true,
        "id": "0rVYnwuxYIS3",
        "outputId": "b94850c9-68c7-4900-ad95-76acd14447fb",
        "colab": {
          "base_uri": "https://localhost:8080/"
        }
      },
      "source": [
        "trips, pickup_neighborhoods, dropoff_neighborhoods = load_nyc_taxi_data()\n",
        "preview(trips, 10)\n",
        "print('Data load successful!')"
      ],
      "execution_count": null,
      "outputs": [
        {
          "output_type": "stream",
          "text": [
            "Data load successful!\n"
          ],
          "name": "stdout"
        }
      ]
    },
    {
      "cell_type": "markdown",
      "metadata": {
        "id": "_9WZ8acvYIS6"
      },
      "source": [
        "We can also plot some aspects of the data to get a better sense of its distributions. For instance, here is the `trip_duration` variable we are going to try to predict."
      ]
    },
    {
      "cell_type": "code",
      "metadata": {
        "trusted": true,
        "id": "fv2J4xTdYIS6",
        "outputId": "7ab337e8-08fb-46b5-d133-74804cb077f9",
        "colab": {
          "base_uri": "https://localhost:8080/",
          "height": 325
        }
      },
      "source": [
        "trips.trip_duration.hist()\n",
        "plt.xlabel('Trip Duration in Seconds')\n",
        "plt.ylabel('Number of Trips')\n",
        "plt.suptitle('Trip Duration Distribution')\n",
        "plt.show()\n",
        "print('Histogram generation successful!')"
      ],
      "execution_count": null,
      "outputs": [
        {
          "output_type": "display_data",
          "data": {
            "image/png": "[encoded data removed]",
            "text/plain": [
              "<Figure size 432x288 with 1 Axes>"
            ]
          },
          "metadata": {
            "tags": [],
            "needs_background": "light"
          }
        },
        {
          "output_type": "stream",
          "text": [
            "Histogram generation successful!\n"
          ],
          "name": "stdout"
        }
      ]
    },
    {
      "cell_type": "code",
      "metadata": {
        "trusted": true,
        "id": "YKoX7Z5hYIS9",
        "outputId": "75aacb72-f0a2-4559-a77b-35dce6ec8749",
        "colab": {
          "base_uri": "https://localhost:8080/"
        }
      },
      "source": [
        "trips.shape[0]  # Tells us how many trips are in the dataset"
      ],
      "execution_count": null,
      "outputs": [
        {
          "output_type": "execute_result",
          "data": {
            "text/plain": [
              "10000"
            ]
          },
          "metadata": {
            "tags": []
          },
          "execution_count": 6
        }
      ]
    },
    {
      "cell_type": "markdown",
      "metadata": {
        "id": "7RqcK8J-YIS_"
      },
      "source": [
        "<h1 style=\"color:red;\">QUESTION 1: DATA ANALYSIS</h1>"
      ]
    },
    {
      "cell_type": "markdown",
      "metadata": {
        "id": "RE-raWtqYITA"
      },
      "source": [
        "**Describe the dataset. How many trips are in the dataset? How would you describe the distribution of trip durations? Is there anything else we should observe? Make sure the histogram is visible in the notebook.**"
      ]
    },
    {
      "cell_type": "markdown",
      "metadata": {
        "id": "MiKmPx_JYITA"
      },
      "source": [
        "*Type your response here...*"
      ]
    },
    {
      "cell_type": "markdown",
      "metadata": {
        "id": "Yfa09LZgYITB"
      },
      "source": [
        "# Entities and Relationships"
      ]
    },
    {
      "cell_type": "code",
      "metadata": {
        "trusted": true,
        "id": "G_MCd_dMYITB",
        "outputId": "0743bb2a-0f6e-4c2b-b98f-66909998af49",
        "colab": {
          "base_uri": "https://localhost:8080/"
        }
      },
      "source": [
        "entities = {\n",
        "    \"trips\": (trips, \"id\", 'pickup_datetime'),\n",
        "    \"pickup_neighborhoods\": (pickup_neighborhoods, \"neighborhood_id\"),\n",
        "    \"dropoff_neighborhoods\": (dropoff_neighborhoods, \"neighborhood_id\"),\n",
        "}\n",
        "\n",
        "relationships = [(\"pickup_neighborhoods\", \"neighborhood_id\", \"trips\", \"pickup_neighborhood\"),\n",
        "                 (\"dropoff_neighborhoods\", \"neighborhood_id\", \"trips\", \"dropoff_neighborhood\")]\n",
        "\n",
        "print('Entities and relationships successful!')"
      ],
      "execution_count": null,
      "outputs": [
        {
          "output_type": "stream",
          "text": [
            "Entities and relationships successful!\n"
          ],
          "name": "stdout"
        }
      ]
    },
    {
      "cell_type": "markdown",
      "metadata": {
        "id": "OT2AtYROYITE"
      },
      "source": [
        "# Transform Primitives"
      ]
    },
    {
      "cell_type": "code",
      "metadata": {
        "trusted": true,
        "id": "-ns7ycx2YITF",
        "outputId": "0c289353-f4c9-461f-d5b8-10121336c940",
        "colab": {
          "base_uri": "https://localhost:8080/"
        }
      },
      "source": [
        "trans_primitives = [Weekend]\n",
        "\n",
        "# This may take some time to compute\n",
        "features = ft.dfs(entities=entities,\n",
        "                  relationships=relationships,\n",
        "                  target_entity=\"trips\",\n",
        "                  trans_primitives=trans_primitives,\n",
        "                  agg_primitives=[],\n",
        "                  ignore_variables={\"trips\": [\"pickup_latitude\", \"pickup_longitude\",\n",
        "                                              \"dropoff_latitude\", \"dropoff_longitude\", \"trip_duration\"]},\n",
        "                  features_only=True)\n",
        "\n",
        "print('Transform primitives successful!')"
      ],
      "execution_count": null,
      "outputs": [
        {
          "output_type": "stream",
          "text": [
            "Transform primitives successful!\n"
          ],
          "name": "stdout"
        }
      ]
    },
    {
      "cell_type": "markdown",
      "metadata": {
        "id": "uVmNsaDbYITH"
      },
      "source": [
        "Here are the features that we just created."
      ]
    },
    {
      "cell_type": "code",
      "metadata": {
        "trusted": true,
        "id": "mRSz_CimYITI",
        "outputId": "ee677652-958f-4163-dd75-0d8b724993cd",
        "colab": {
          "base_uri": "https://localhost:8080/"
        }
      },
      "source": [
        "print(f\"Number of features: {len(features)}\")\n",
        "features"
      ],
      "execution_count": null,
      "outputs": [
        {
          "output_type": "stream",
          "text": [
            "Number of features: 12\n"
          ],
          "name": "stdout"
        },
        {
          "output_type": "execute_result",
          "data": {
            "text/plain": [
              "[<Feature: vendor_id>,\n",
              " <Feature: passenger_count>,\n",
              " <Feature: trip_distance>,\n",
              " <Feature: payment_type>,\n",
              " <Feature: pickup_neighborhood>,\n",
              " <Feature: dropoff_neighborhood>,\n",
              " <Feature: IS_WEEKEND(pickup_datetime)>,\n",
              " <Feature: IS_WEEKEND(dropoff_datetime)>,\n",
              " <Feature: pickup_neighborhoods.latitude>,\n",
              " <Feature: pickup_neighborhoods.longitude>,\n",
              " <Feature: dropoff_neighborhoods.latitude>,\n",
              " <Feature: dropoff_neighborhoods.longitude>]"
            ]
          },
          "metadata": {
            "tags": []
          },
          "execution_count": 10
        }
      ]
    },
    {
      "cell_type": "markdown",
      "metadata": {
        "id": "51BypAq1YITL"
      },
      "source": [
        "Finally, we compute the feature matrix from these features."
      ]
    },
    {
      "cell_type": "code",
      "metadata": {
        "trusted": true,
        "id": "vbiFNM9NYITM",
        "outputId": "1a62ed6f-cd9e-43ad-a58b-a2977deedbe1",
        "colab": {
          "base_uri": "https://localhost:8080/",
          "height": 339
        }
      },
      "source": [
        "feature_matrix = compute_features(features)\n",
        "preview(feature_matrix, 5)"
      ],
      "execution_count": null,
      "outputs": [
        {
          "output_type": "stream",
          "text": [
            "Elapsed: 00:00 | Remaining: 00:00 | Progress: 100%|██████████|| Calculated: 1/1 cutoff times\n",
            "Finishing computing...\n"
          ],
          "name": "stdout"
        },
        {
          "output_type": "execute_result",
          "data": {
            "text/html": [
              "<div>\n",
              "<style>\n",
              "    .dataframe thead tr:only-child th {\n",
              "        text-align: right;\n",
              "    }\n",
              "\n",
              "    .dataframe thead th {\n",
              "        text-align: left;\n",
              "    }\n",
              "\n",
              "    .dataframe tbody tr th {\n",
              "        vertical-align: top;\n",
              "    }\n",
              "</style>\n",
              "<table border=\"1\" class=\"dataframe\">\n",
              "  <thead>\n",
              "    <tr style=\"text-align: right;\">\n",
              "      <th></th>\n",
              "      <th>vendor_id</th>\n",
              "      <th>pickup_neighborhoods.longitude</th>\n",
              "      <th>pickup_neighborhoods.latitude</th>\n",
              "      <th>IS_WEEKEND(pickup_datetime)</th>\n",
              "      <th>IS_WEEKEND(dropoff_datetime)</th>\n",
              "      <th>trip_distance</th>\n",
              "      <th>passenger_count</th>\n",
              "      <th>dropoff_neighborhoods.latitude</th>\n",
              "      <th>dropoff_neighborhood = D</th>\n",
              "      <th>dropoff_neighborhood = AA</th>\n",
              "      <th>...</th>\n",
              "      <th>pickup_neighborhood = E</th>\n",
              "      <th>pickup_neighborhood = M</th>\n",
              "      <th>pickup_neighborhood = AW</th>\n",
              "      <th>pickup_neighborhood = S</th>\n",
              "      <th>pickup_neighborhood = AF</th>\n",
              "      <th>pickup_neighborhood = T</th>\n",
              "      <th>pickup_neighborhood = AI</th>\n",
              "      <th>pickup_neighborhood = AE</th>\n",
              "      <th>pickup_neighborhood = B</th>\n",
              "      <th>pickup_neighborhood = AQ</th>\n",
              "    </tr>\n",
              "    <tr>\n",
              "      <th>id</th>\n",
              "      <th></th>\n",
              "      <th></th>\n",
              "      <th></th>\n",
              "      <th></th>\n",
              "      <th></th>\n",
              "      <th></th>\n",
              "      <th></th>\n",
              "      <th></th>\n",
              "      <th></th>\n",
              "      <th></th>\n",
              "      <th></th>\n",
              "      <th></th>\n",
              "      <th></th>\n",
              "      <th></th>\n",
              "      <th></th>\n",
              "      <th></th>\n",
              "      <th></th>\n",
              "      <th></th>\n",
              "      <th></th>\n",
              "      <th></th>\n",
              "      <th></th>\n",
              "    </tr>\n",
              "  </thead>\n",
              "  <tbody>\n",
              "    <tr>\n",
              "      <th>514030</th>\n",
              "      <td>2</td>\n",
              "      <td>-73.986446</td>\n",
              "      <td>40.757707</td>\n",
              "      <td>True</td>\n",
              "      <td>True</td>\n",
              "      <td>2.46</td>\n",
              "      <td>1</td>\n",
              "      <td>40.766809</td>\n",
              "      <td>0</td>\n",
              "      <td>0</td>\n",
              "      <td>...</td>\n",
              "      <td>0</td>\n",
              "      <td>0</td>\n",
              "      <td>0</td>\n",
              "      <td>0</td>\n",
              "      <td>0</td>\n",
              "      <td>0</td>\n",
              "      <td>0</td>\n",
              "      <td>0</td>\n",
              "      <td>0</td>\n",
              "      <td>0</td>\n",
              "    </tr>\n",
              "    <tr>\n",
              "      <th>514031</th>\n",
              "      <td>1</td>\n",
              "      <td>-73.919159</td>\n",
              "      <td>40.744928</td>\n",
              "      <td>True</td>\n",
              "      <td>True</td>\n",
              "      <td>7.90</td>\n",
              "      <td>2</td>\n",
              "      <td>40.793597</td>\n",
              "      <td>0</td>\n",
              "      <td>0</td>\n",
              "      <td>...</td>\n",
              "      <td>0</td>\n",
              "      <td>0</td>\n",
              "      <td>0</td>\n",
              "      <td>0</td>\n",
              "      <td>0</td>\n",
              "      <td>0</td>\n",
              "      <td>0</td>\n",
              "      <td>0</td>\n",
              "      <td>0</td>\n",
              "      <td>0</td>\n",
              "    </tr>\n",
              "    <tr>\n",
              "      <th>514032</th>\n",
              "      <td>1</td>\n",
              "      <td>-73.991595</td>\n",
              "      <td>40.729652</td>\n",
              "      <td>True</td>\n",
              "      <td>True</td>\n",
              "      <td>1.00</td>\n",
              "      <td>1</td>\n",
              "      <td>40.740333</td>\n",
              "      <td>0</td>\n",
              "      <td>0</td>\n",
              "      <td>...</td>\n",
              "      <td>0</td>\n",
              "      <td>0</td>\n",
              "      <td>0</td>\n",
              "      <td>0</td>\n",
              "      <td>0</td>\n",
              "      <td>0</td>\n",
              "      <td>0</td>\n",
              "      <td>0</td>\n",
              "      <td>0</td>\n",
              "      <td>0</td>\n",
              "    </tr>\n",
              "    <tr>\n",
              "      <th>514033</th>\n",
              "      <td>2</td>\n",
              "      <td>-73.987205</td>\n",
              "      <td>40.720245</td>\n",
              "      <td>True</td>\n",
              "      <td>True</td>\n",
              "      <td>0.02</td>\n",
              "      <td>1</td>\n",
              "      <td>40.720245</td>\n",
              "      <td>0</td>\n",
              "      <td>0</td>\n",
              "      <td>...</td>\n",
              "      <td>0</td>\n",
              "      <td>0</td>\n",
              "      <td>0</td>\n",
              "      <td>0</td>\n",
              "      <td>0</td>\n",
              "      <td>0</td>\n",
              "      <td>0</td>\n",
              "      <td>0</td>\n",
              "      <td>0</td>\n",
              "      <td>0</td>\n",
              "    </tr>\n",
              "    <tr>\n",
              "      <th>514034</th>\n",
              "      <td>1</td>\n",
              "      <td>-73.785073</td>\n",
              "      <td>40.646194</td>\n",
              "      <td>True</td>\n",
              "      <td>True</td>\n",
              "      <td>19.00</td>\n",
              "      <td>2</td>\n",
              "      <td>40.785005</td>\n",
              "      <td>0</td>\n",
              "      <td>0</td>\n",
              "      <td>...</td>\n",
              "      <td>0</td>\n",
              "      <td>0</td>\n",
              "      <td>0</td>\n",
              "      <td>0</td>\n",
              "      <td>0</td>\n",
              "      <td>0</td>\n",
              "      <td>0</td>\n",
              "      <td>0</td>\n",
              "      <td>0</td>\n",
              "      <td>0</td>\n",
              "    </tr>\n",
              "  </tbody>\n",
              "</table>\n",
              "<p>5 rows × 108 columns</p>\n",
              "</div>"
            ],
            "text/plain": [
              "        vendor_id  pickup_neighborhoods.longitude  \\\n",
              "id                                                  \n",
              "514030          2                      -73.986446   \n",
              "514031          1                      -73.919159   \n",
              "514032          1                      -73.991595   \n",
              "514033          2                      -73.987205   \n",
              "514034          1                      -73.785073   \n",
              "\n",
              "        pickup_neighborhoods.latitude  IS_WEEKEND(pickup_datetime)  \\\n",
              "id                                                                   \n",
              "514030                      40.757707                         True   \n",
              "514031                      40.744928                         True   \n",
              "514032                      40.729652                         True   \n",
              "514033                      40.720245                         True   \n",
              "514034                      40.646194                         True   \n",
              "\n",
              "        IS_WEEKEND(dropoff_datetime)  trip_distance  passenger_count  \\\n",
              "id                                                                     \n",
              "514030                          True           2.46                1   \n",
              "514031                          True           7.90                2   \n",
              "514032                          True           1.00                1   \n",
              "514033                          True           0.02                1   \n",
              "514034                          True          19.00                2   \n",
              "\n",
              "        dropoff_neighborhoods.latitude  dropoff_neighborhood = D  \\\n",
              "id                                                                 \n",
              "514030                       40.766809                         0   \n",
              "514031                       40.793597                         0   \n",
              "514032                       40.740333                         0   \n",
              "514033                       40.720245                         0   \n",
              "514034                       40.785005                         0   \n",
              "\n",
              "        dropoff_neighborhood = AA            ...             \\\n",
              "id                                           ...              \n",
              "514030                          0            ...              \n",
              "514031                          0            ...              \n",
              "514032                          0            ...              \n",
              "514033                          0            ...              \n",
              "514034                          0            ...              \n",
              "\n",
              "        pickup_neighborhood = E  pickup_neighborhood = M  \\\n",
              "id                                                         \n",
              "514030                        0                        0   \n",
              "514031                        0                        0   \n",
              "514032                        0                        0   \n",
              "514033                        0                        0   \n",
              "514034                        0                        0   \n",
              "\n",
              "        pickup_neighborhood = AW  pickup_neighborhood = S  \\\n",
              "id                                                          \n",
              "514030                         0                        0   \n",
              "514031                         0                        0   \n",
              "514032                         0                        0   \n",
              "514033                         0                        0   \n",
              "514034                         0                        0   \n",
              "\n",
              "        pickup_neighborhood = AF  pickup_neighborhood = T  \\\n",
              "id                                                          \n",
              "514030                         0                        0   \n",
              "514031                         0                        0   \n",
              "514032                         0                        0   \n",
              "514033                         0                        0   \n",
              "514034                         0                        0   \n",
              "\n",
              "        pickup_neighborhood = AI  pickup_neighborhood = AE  \\\n",
              "id                                                           \n",
              "514030                         0                         0   \n",
              "514031                         0                         0   \n",
              "514032                         0                         0   \n",
              "514033                         0                         0   \n",
              "514034                         0                         0   \n",
              "\n",
              "        pickup_neighborhood = B  pickup_neighborhood = AQ  \n",
              "id                                                         \n",
              "514030                        0                         0  \n",
              "514031                        0                         0  \n",
              "514032                        0                         0  \n",
              "514033                        0                         0  \n",
              "514034                        0                         0  \n",
              "\n",
              "[5 rows x 108 columns]"
            ]
          },
          "metadata": {
            "tags": []
          },
          "execution_count": 11
        }
      ]
    },
    {
      "cell_type": "markdown",
      "metadata": {
        "id": "niIb73BmYITN"
      },
      "source": [
        "# First Model"
      ]
    },
    {
      "cell_type": "code",
      "metadata": {
        "trusted": true,
        "id": "-KefhtWjYITO",
        "outputId": "805c7725-ac6e-4de3-cdd3-1f12028ffcfb",
        "colab": {
          "base_uri": "https://localhost:8080/"
        }
      },
      "source": [
        "# Split data\n",
        "X_train, y_train, X_test, y_test = utils.get_train_test_fm(feature_matrix, trips, .75)\n",
        "y_train = np.log(y_train + 1)\n",
        "y_test = np.log(y_test + 1)\n",
        "\n",
        "print('Data split successful!')"
      ],
      "execution_count": null,
      "outputs": [
        {
          "output_type": "stream",
          "text": [
            "Data split successful!\n"
          ],
          "name": "stdout"
        }
      ]
    },
    {
      "cell_type": "code",
      "metadata": {
        "trusted": true,
        "id": "iD2XNEQPYITR",
        "outputId": "e3b24fab-b911-4e2c-e6ac-9d945da82b43",
        "colab": {
          "base_uri": "https://localhost:8080/"
        }
      },
      "source": [
        "# This should train within a minute or so\n",
        "model = GradientBoostingRegressor(verbose=True)\n",
        "model.fit(X_train, y_train)\n",
        "print(model.score(X_test, y_test)) # This is the R^2 value of the prediction\n",
        "\n",
        "print('Training successful!')"
      ],
      "execution_count": null,
      "outputs": [
        {
          "output_type": "stream",
          "text": [
            "      Iter       Train Loss   Remaining Time \n",
            "         1           0.4736            1.99s\n",
            "         2           0.4148            1.76s\n",
            "         3           0.3661            1.70s\n",
            "         4           0.3266            1.73s\n",
            "         5           0.2934            1.73s\n",
            "         6           0.2665            1.69s\n",
            "         7           0.2441            1.65s\n",
            "         8           0.2257            1.61s\n",
            "         9           0.2103            1.58s\n",
            "        10           0.1973            1.55s\n",
            "        20           0.1433            1.33s\n",
            "        30           0.1308            1.14s\n",
            "        40           0.1252            0.96s\n",
            "        50           0.1212            0.79s\n",
            "        60           0.1187            0.63s\n",
            "        70           0.1167            0.47s\n",
            "        80           0.1155            0.31s\n",
            "        90           0.1143            0.16s\n",
            "       100           0.1133            0.00s\n",
            "0.755458111784738\n",
            "Training successful!\n"
          ],
          "name": "stdout"
        }
      ]
    },
    {
      "cell_type": "markdown",
      "metadata": {
        "id": "6Fe4FKwvYITT"
      },
      "source": [
        "<h1 style=\"color:red;\">QUESTION 2: FIRST MODEL</h1>"
      ]
    },
    {
      "cell_type": "markdown",
      "metadata": {
        "id": "sNEV75CxYITT"
      },
      "source": [
        "**Describe all the features that we added to the model. Do you think these improved the performance from a model that did not have these features? Why?**"
      ]
    },
    {
      "cell_type": "markdown",
      "metadata": {
        "id": "PMTf-KuqYITU"
      },
      "source": [
        "*Type your response here...*"
      ]
    },
    {
      "cell_type": "markdown",
      "metadata": {
        "id": "_w6X139yYITW"
      },
      "source": [
        "# More Transform Primitives"
      ]
    },
    {
      "cell_type": "code",
      "metadata": {
        "trusted": true,
        "id": "ZOTdQqC1YITW",
        "outputId": "b2a603ba-67b1-47d1-db63-771372b95f3e",
        "colab": {
          "base_uri": "https://localhost:8080/"
        }
      },
      "source": [
        "trans_primitives = [Minute, Hour, Day, Week, Month, Weekday, Weekend]\n",
        "\n",
        "features = ft.dfs(entities=entities,\n",
        "                  relationships=relationships,\n",
        "                  target_entity=\"trips\",\n",
        "                  trans_primitives=trans_primitives,\n",
        "                  agg_primitives=[],\n",
        "                  ignore_variables={\"trips\": [\"pickup_latitude\", \"pickup_longitude\",\n",
        "                                              \"dropoff_latitude\", \"dropoff_longitude\", \"trip_duration\"]},\n",
        "                  features_only=True)\n",
        "\n",
        "print('Transform primitives successful!')"
      ],
      "execution_count": null,
      "outputs": [
        {
          "output_type": "stream",
          "text": [
            "Transform primitives successful!\n"
          ],
          "name": "stdout"
        }
      ]
    },
    {
      "cell_type": "code",
      "metadata": {
        "trusted": true,
        "id": "74mjfESnYITY",
        "outputId": "7bf01357-8b0f-4659-bd0b-96fdbd00e04a",
        "colab": {
          "base_uri": "https://localhost:8080/"
        }
      },
      "source": [
        "print(f\"Number of features: {len(features)}\")\n",
        "features"
      ],
      "execution_count": null,
      "outputs": [
        {
          "output_type": "stream",
          "text": [
            "Number of features: 24\n"
          ],
          "name": "stdout"
        },
        {
          "output_type": "execute_result",
          "data": {
            "text/plain": [
              "[<Feature: vendor_id>,\n",
              " <Feature: passenger_count>,\n",
              " <Feature: trip_distance>,\n",
              " <Feature: payment_type>,\n",
              " <Feature: pickup_neighborhood>,\n",
              " <Feature: dropoff_neighborhood>,\n",
              " <Feature: MINUTE(pickup_datetime)>,\n",
              " <Feature: MINUTE(dropoff_datetime)>,\n",
              " <Feature: HOUR(pickup_datetime)>,\n",
              " <Feature: HOUR(dropoff_datetime)>,\n",
              " <Feature: DAY(pickup_datetime)>,\n",
              " <Feature: DAY(dropoff_datetime)>,\n",
              " <Feature: WEEK(pickup_datetime)>,\n",
              " <Feature: WEEK(dropoff_datetime)>,\n",
              " <Feature: MONTH(pickup_datetime)>,\n",
              " <Feature: MONTH(dropoff_datetime)>,\n",
              " <Feature: WEEKDAY(pickup_datetime)>,\n",
              " <Feature: WEEKDAY(dropoff_datetime)>,\n",
              " <Feature: IS_WEEKEND(pickup_datetime)>,\n",
              " <Feature: IS_WEEKEND(dropoff_datetime)>,\n",
              " <Feature: pickup_neighborhoods.latitude>,\n",
              " <Feature: pickup_neighborhoods.longitude>,\n",
              " <Feature: dropoff_neighborhoods.latitude>,\n",
              " <Feature: dropoff_neighborhoods.longitude>]"
            ]
          },
          "metadata": {
            "tags": []
          },
          "execution_count": 15
        }
      ]
    },
    {
      "cell_type": "code",
      "metadata": {
        "trusted": true,
        "id": "4U107KiFYITa",
        "outputId": "5f99fc18-da65-4aa3-c838-8c1d8f207a95",
        "colab": {
          "base_uri": "https://localhost:8080/",
          "height": 339
        }
      },
      "source": [
        "feature_matrix = compute_features(features)\n",
        "preview(feature_matrix, 5)"
      ],
      "execution_count": null,
      "outputs": [
        {
          "output_type": "stream",
          "text": [
            "Elapsed: 00:00 | Remaining: 00:00 | Progress: 100%|██████████|| Calculated: 1/1 cutoff times\n",
            "Finishing computing...\n"
          ],
          "name": "stdout"
        },
        {
          "output_type": "execute_result",
          "data": {
            "text/html": [
              "<div>\n",
              "<style>\n",
              "    .dataframe thead tr:only-child th {\n",
              "        text-align: right;\n",
              "    }\n",
              "\n",
              "    .dataframe thead th {\n",
              "        text-align: left;\n",
              "    }\n",
              "\n",
              "    .dataframe tbody tr th {\n",
              "        vertical-align: top;\n",
              "    }\n",
              "</style>\n",
              "<table border=\"1\" class=\"dataframe\">\n",
              "  <thead>\n",
              "    <tr style=\"text-align: right;\">\n",
              "      <th></th>\n",
              "      <th>IS_WEEKEND(pickup_datetime)</th>\n",
              "      <th>MONTH(dropoff_datetime)</th>\n",
              "      <th>passenger_count</th>\n",
              "      <th>DAY(dropoff_datetime)</th>\n",
              "      <th>HOUR(dropoff_datetime)</th>\n",
              "      <th>trip_distance</th>\n",
              "      <th>pickup_neighborhood = AA</th>\n",
              "      <th>pickup_neighborhood = D</th>\n",
              "      <th>pickup_neighborhood = AC</th>\n",
              "      <th>pickup_neighborhood = AB</th>\n",
              "      <th>...</th>\n",
              "      <th>dropoff_neighborhoods.latitude</th>\n",
              "      <th>dropoff_neighborhoods.longitude</th>\n",
              "      <th>MONTH(pickup_datetime)</th>\n",
              "      <th>WEEK(dropoff_datetime)</th>\n",
              "      <th>pickup_neighborhoods.longitude</th>\n",
              "      <th>HOUR(pickup_datetime)</th>\n",
              "      <th>MINUTE(dropoff_datetime)</th>\n",
              "      <th>IS_WEEKEND(dropoff_datetime)</th>\n",
              "      <th>MINUTE(pickup_datetime)</th>\n",
              "      <th>WEEKDAY(dropoff_datetime)</th>\n",
              "    </tr>\n",
              "    <tr>\n",
              "      <th>id</th>\n",
              "      <th></th>\n",
              "      <th></th>\n",
              "      <th></th>\n",
              "      <th></th>\n",
              "      <th></th>\n",
              "      <th></th>\n",
              "      <th></th>\n",
              "      <th></th>\n",
              "      <th></th>\n",
              "      <th></th>\n",
              "      <th></th>\n",
              "      <th></th>\n",
              "      <th></th>\n",
              "      <th></th>\n",
              "      <th></th>\n",
              "      <th></th>\n",
              "      <th></th>\n",
              "      <th></th>\n",
              "      <th></th>\n",
              "      <th></th>\n",
              "      <th></th>\n",
              "    </tr>\n",
              "  </thead>\n",
              "  <tbody>\n",
              "    <tr>\n",
              "      <th>514030</th>\n",
              "      <td>True</td>\n",
              "      <td>4</td>\n",
              "      <td>1</td>\n",
              "      <td>2</td>\n",
              "      <td>0</td>\n",
              "      <td>2.46</td>\n",
              "      <td>1</td>\n",
              "      <td>0</td>\n",
              "      <td>0</td>\n",
              "      <td>0</td>\n",
              "      <td>...</td>\n",
              "      <td>40.766809</td>\n",
              "      <td>-73.956886</td>\n",
              "      <td>4</td>\n",
              "      <td>13</td>\n",
              "      <td>-73.986446</td>\n",
              "      <td>0</td>\n",
              "      <td>17</td>\n",
              "      <td>True</td>\n",
              "      <td>0</td>\n",
              "      <td>5</td>\n",
              "    </tr>\n",
              "    <tr>\n",
              "      <th>514031</th>\n",
              "      <td>True</td>\n",
              "      <td>4</td>\n",
              "      <td>2</td>\n",
              "      <td>2</td>\n",
              "      <td>0</td>\n",
              "      <td>7.90</td>\n",
              "      <td>0</td>\n",
              "      <td>0</td>\n",
              "      <td>0</td>\n",
              "      <td>0</td>\n",
              "      <td>...</td>\n",
              "      <td>40.793597</td>\n",
              "      <td>-73.969822</td>\n",
              "      <td>4</td>\n",
              "      <td>13</td>\n",
              "      <td>-73.919159</td>\n",
              "      <td>0</td>\n",
              "      <td>24</td>\n",
              "      <td>True</td>\n",
              "      <td>0</td>\n",
              "      <td>5</td>\n",
              "    </tr>\n",
              "    <tr>\n",
              "      <th>514032</th>\n",
              "      <td>True</td>\n",
              "      <td>4</td>\n",
              "      <td>1</td>\n",
              "      <td>2</td>\n",
              "      <td>0</td>\n",
              "      <td>1.00</td>\n",
              "      <td>0</td>\n",
              "      <td>0</td>\n",
              "      <td>0</td>\n",
              "      <td>0</td>\n",
              "      <td>...</td>\n",
              "      <td>40.740333</td>\n",
              "      <td>-74.005107</td>\n",
              "      <td>4</td>\n",
              "      <td>13</td>\n",
              "      <td>-73.991595</td>\n",
              "      <td>0</td>\n",
              "      <td>19</td>\n",
              "      <td>True</td>\n",
              "      <td>0</td>\n",
              "      <td>5</td>\n",
              "    </tr>\n",
              "    <tr>\n",
              "      <th>514033</th>\n",
              "      <td>True</td>\n",
              "      <td>4</td>\n",
              "      <td>1</td>\n",
              "      <td>2</td>\n",
              "      <td>0</td>\n",
              "      <td>0.02</td>\n",
              "      <td>0</td>\n",
              "      <td>0</td>\n",
              "      <td>1</td>\n",
              "      <td>0</td>\n",
              "      <td>...</td>\n",
              "      <td>40.720245</td>\n",
              "      <td>-73.987205</td>\n",
              "      <td>4</td>\n",
              "      <td>13</td>\n",
              "      <td>-73.987205</td>\n",
              "      <td>0</td>\n",
              "      <td>1</td>\n",
              "      <td>True</td>\n",
              "      <td>0</td>\n",
              "      <td>5</td>\n",
              "    </tr>\n",
              "    <tr>\n",
              "      <th>514034</th>\n",
              "      <td>True</td>\n",
              "      <td>4</td>\n",
              "      <td>2</td>\n",
              "      <td>2</td>\n",
              "      <td>0</td>\n",
              "      <td>19.00</td>\n",
              "      <td>0</td>\n",
              "      <td>0</td>\n",
              "      <td>0</td>\n",
              "      <td>0</td>\n",
              "      <td>...</td>\n",
              "      <td>40.785005</td>\n",
              "      <td>-73.976050</td>\n",
              "      <td>4</td>\n",
              "      <td>13</td>\n",
              "      <td>-73.785073</td>\n",
              "      <td>0</td>\n",
              "      <td>58</td>\n",
              "      <td>True</td>\n",
              "      <td>1</td>\n",
              "      <td>5</td>\n",
              "    </tr>\n",
              "  </tbody>\n",
              "</table>\n",
              "<p>5 rows × 120 columns</p>\n",
              "</div>"
            ],
            "text/plain": [
              "        IS_WEEKEND(pickup_datetime)  MONTH(dropoff_datetime)  passenger_count  \\\n",
              "id                                                                              \n",
              "514030                         True                        4                1   \n",
              "514031                         True                        4                2   \n",
              "514032                         True                        4                1   \n",
              "514033                         True                        4                1   \n",
              "514034                         True                        4                2   \n",
              "\n",
              "        DAY(dropoff_datetime)  HOUR(dropoff_datetime)  trip_distance  \\\n",
              "id                                                                     \n",
              "514030                      2                       0           2.46   \n",
              "514031                      2                       0           7.90   \n",
              "514032                      2                       0           1.00   \n",
              "514033                      2                       0           0.02   \n",
              "514034                      2                       0          19.00   \n",
              "\n",
              "        pickup_neighborhood = AA  pickup_neighborhood = D  \\\n",
              "id                                                          \n",
              "514030                         1                        0   \n",
              "514031                         0                        0   \n",
              "514032                         0                        0   \n",
              "514033                         0                        0   \n",
              "514034                         0                        0   \n",
              "\n",
              "        pickup_neighborhood = AC  pickup_neighborhood = AB  \\\n",
              "id                                                           \n",
              "514030                         0                         0   \n",
              "514031                         0                         0   \n",
              "514032                         0                         0   \n",
              "514033                         1                         0   \n",
              "514034                         0                         0   \n",
              "\n",
              "                  ...              dropoff_neighborhoods.latitude  \\\n",
              "id                ...                                               \n",
              "514030            ...                                   40.766809   \n",
              "514031            ...                                   40.793597   \n",
              "514032            ...                                   40.740333   \n",
              "514033            ...                                   40.720245   \n",
              "514034            ...                                   40.785005   \n",
              "\n",
              "        dropoff_neighborhoods.longitude  MONTH(pickup_datetime)  \\\n",
              "id                                                                \n",
              "514030                       -73.956886                       4   \n",
              "514031                       -73.969822                       4   \n",
              "514032                       -74.005107                       4   \n",
              "514033                       -73.987205                       4   \n",
              "514034                       -73.976050                       4   \n",
              "\n",
              "        WEEK(dropoff_datetime)  pickup_neighborhoods.longitude  \\\n",
              "id                                                               \n",
              "514030                      13                      -73.986446   \n",
              "514031                      13                      -73.919159   \n",
              "514032                      13                      -73.991595   \n",
              "514033                      13                      -73.987205   \n",
              "514034                      13                      -73.785073   \n",
              "\n",
              "        HOUR(pickup_datetime)  MINUTE(dropoff_datetime)  \\\n",
              "id                                                        \n",
              "514030                      0                        17   \n",
              "514031                      0                        24   \n",
              "514032                      0                        19   \n",
              "514033                      0                         1   \n",
              "514034                      0                        58   \n",
              "\n",
              "        IS_WEEKEND(dropoff_datetime)  MINUTE(pickup_datetime)  \\\n",
              "id                                                              \n",
              "514030                          True                        0   \n",
              "514031                          True                        0   \n",
              "514032                          True                        0   \n",
              "514033                          True                        0   \n",
              "514034                          True                        1   \n",
              "\n",
              "        WEEKDAY(dropoff_datetime)  \n",
              "id                                 \n",
              "514030                          5  \n",
              "514031                          5  \n",
              "514032                          5  \n",
              "514033                          5  \n",
              "514034                          5  \n",
              "\n",
              "[5 rows x 120 columns]"
            ]
          },
          "metadata": {
            "tags": []
          },
          "execution_count": 16
        }
      ]
    },
    {
      "cell_type": "code",
      "metadata": {
        "trusted": true,
        "id": "vjG4SNrqYITi",
        "outputId": "6097ae4f-82ad-4092-eb4e-216bc3ae3c75",
        "colab": {
          "base_uri": "https://localhost:8080/"
        }
      },
      "source": [
        "# Re-split data\n",
        "X_train, y_train, X_test, y_test = utils.get_train_test_fm(feature_matrix, trips, .75)\n",
        "y_train = np.log(y_train + 1)\n",
        "y_test = np.log(y_test + 1)\n",
        "\n",
        "print('Data split successful!')"
      ],
      "execution_count": null,
      "outputs": [
        {
          "output_type": "stream",
          "text": [
            "Data split successful!\n"
          ],
          "name": "stdout"
        }
      ]
    },
    {
      "cell_type": "code",
      "metadata": {
        "trusted": true,
        "id": "TfbK5f1KYITk",
        "outputId": "706edc11-f738-46c0-dd90-3c994d14cd10",
        "colab": {
          "base_uri": "https://localhost:8080/"
        }
      },
      "source": [
        "# This should train within a minute or so\n",
        "model = GradientBoostingRegressor(verbose=True)\n",
        "model.fit(X_train, y_train)\n",
        "print(model.score(X_test, y_test)) # This is the R^2 value of the prediction\n",
        "\n",
        "print('Training successful!')"
      ],
      "execution_count": null,
      "outputs": [
        {
          "output_type": "stream",
          "text": [
            "      Iter       Train Loss   Remaining Time \n",
            "         1           0.4736            2.31s\n",
            "         2           0.4148            2.20s\n",
            "         3           0.3661            2.12s\n",
            "         4           0.3264            2.11s\n",
            "         5           0.2930            2.06s\n",
            "         6           0.2660            2.02s\n",
            "         7           0.2432            1.99s\n",
            "         8           0.2245            1.96s\n",
            "         9           0.2090            1.94s\n",
            "        10           0.1960            1.94s\n",
            "        20           0.1362            1.70s\n",
            "        30           0.1198            1.47s\n",
            "        40           0.1124            1.24s\n",
            "        50           0.1075            1.04s\n",
            "        60           0.1044            0.82s\n",
            "        70           0.1017            0.62s\n",
            "        80           0.0999            0.41s\n",
            "        90           0.0971            0.20s\n",
            "       100           0.0936            0.00s\n",
            "0.8013545893477472\n",
            "Training successful!\n"
          ],
          "name": "stdout"
        }
      ]
    },
    {
      "cell_type": "markdown",
      "metadata": {
        "id": "oDuFnOUzYITn"
      },
      "source": [
        "<h1 style=\"color:red;\">QUESTION 3: SECOND MODEL</h1>"
      ]
    },
    {
      "cell_type": "markdown",
      "metadata": {
        "id": "JFYvyu3RYITo"
      },
      "source": [
        "**Describe the rest of the new features that we just added to the model. How did this affect performance? Did we have to sacrifice training time?**"
      ]
    },
    {
      "cell_type": "markdown",
      "metadata": {
        "id": "pxjPYNQBYITo"
      },
      "source": [
        "*Type your response here...*"
      ]
    },
    {
      "cell_type": "markdown",
      "metadata": {
        "id": "k2SjoVC1YITo"
      },
      "source": [
        "# Aggregation Primitives"
      ]
    },
    {
      "cell_type": "code",
      "metadata": {
        "trusted": true,
        "id": "16xlX8y0YITp"
      },
      "source": [
        "trans_primitives = [Minute, Hour, Day, Week, Month, Weekday, Weekend]\n",
        "aggregation_primitives = [Count, Sum, Mean, Median, Std, Max, Min]\n",
        "\n",
        "features = ft.dfs(entities=entities,\n",
        "                  relationships=relationships,\n",
        "                  target_entity=\"trips\",\n",
        "                  trans_primitives=trans_primitives,\n",
        "                  agg_primitives=aggregation_primitives,\n",
        "                  ignore_variables={\"trips\": [\"pickup_latitude\", \"pickup_longitude\",\n",
        "                                              \"dropoff_latitude\", \"dropoff_longitude\", \"trip_duration\"]},\n",
        "                  features_only=True)\n",
        "\n",
        "print('Aggregation primitives successful!')"
      ],
      "execution_count": null,
      "outputs": []
    },
    {
      "cell_type": "code",
      "metadata": {
        "trusted": true,
        "id": "c97rIm46YITr"
      },
      "source": [
        "print(f\"Number of features: {len(features)}\")\n",
        "features"
      ],
      "execution_count": null,
      "outputs": []
    },
    {
      "cell_type": "code",
      "metadata": {
        "trusted": true,
        "id": "OJHTmHKoYITu"
      },
      "source": [
        "# This may take a bit longer to compute, so please be patient\n",
        "feature_matrix = compute_features(features)\n",
        "preview(feature_matrix, 5)"
      ],
      "execution_count": null,
      "outputs": []
    },
    {
      "cell_type": "code",
      "metadata": {
        "trusted": true,
        "id": "tqvsh3xyYITw"
      },
      "source": [
        "# Re-split data\n",
        "X_train, y_train, X_test, y_test = utils.get_train_test_fm(feature_matrix, trips, .75)\n",
        "y_train = np.log(y_train + 1)\n",
        "y_test = np.log(y_test + 1)\n",
        "\n",
        "print('Data split successful!')"
      ],
      "execution_count": null,
      "outputs": []
    },
    {
      "cell_type": "code",
      "metadata": {
        "trusted": true,
        "id": "ybjvx6K-YITz"
      },
      "source": [
        "# This should train within a minute or so\n",
        "model = GradientBoostingRegressor(verbose=True)\n",
        "model.fit(X_train, y_train)\n",
        "print(model.score(X_test, y_test)) # This is the R^2 value of the prediction\n",
        "\n",
        "print('Training successful!')"
      ],
      "execution_count": null,
      "outputs": []
    },
    {
      "cell_type": "markdown",
      "metadata": {
        "id": "eOnKkefoYIT2"
      },
      "source": [
        "# Evaluate on Test Data"
      ]
    },
    {
      "cell_type": "code",
      "metadata": {
        "trusted": true,
        "id": "OVdVd9ThYIT3"
      },
      "source": [
        "y_pred = model.predict(X_test)\n",
        "y_pred = np.exp(y_pred) - 1 # undo the log we took earlier\n",
        "\n",
        "print('y_pred computation successful!')"
      ],
      "execution_count": null,
      "outputs": []
    },
    {
      "cell_type": "code",
      "metadata": {
        "trusted": true,
        "id": "BB0tSruTYIT5"
      },
      "source": [
        "# Print the first 5 predictions\n",
        "y_pred[:5]"
      ],
      "execution_count": null,
      "outputs": []
    },
    {
      "cell_type": "code",
      "metadata": {
        "trusted": true,
        "id": "IRTmXw8AYIT7"
      },
      "source": [
        "# Create a histogram of all of them\n",
        "matplotlib.pyplot.hist(y_pred)\n",
        "\n",
        "print('Histogram generation successful!')"
      ],
      "execution_count": null,
      "outputs": []
    },
    {
      "cell_type": "markdown",
      "metadata": {
        "id": "ecyQGHCWYIT9"
      },
      "source": [
        "<h1 style=\"color:red;\">QUESTION 4: MODEL PREDICTIONS</h1>"
      ]
    },
    {
      "cell_type": "markdown",
      "metadata": {
        "id": "l4uyXVhqYIT-"
      },
      "source": [
        "**Analyze the model predictions. Does the output distribution match the one you made earlier in the case study? What other features/strategies could we use to make our model even better, if we had more time?**"
      ]
    },
    {
      "cell_type": "markdown",
      "metadata": {
        "id": "Ob04ZGc-YIT-"
      },
      "source": [
        "*Type your response here...*"
      ]
    },
    {
      "cell_type": "markdown",
      "metadata": {
        "id": "aagrIsldYIT_"
      },
      "source": [
        "# Feature Importance"
      ]
    },
    {
      "cell_type": "code",
      "metadata": {
        "trusted": true,
        "id": "_NAW9FSQYIUA"
      },
      "source": [
        "feature_importances(model, feature_matrix.columns, n=25)"
      ],
      "execution_count": null,
      "outputs": []
    },
    {
      "cell_type": "markdown",
      "metadata": {
        "id": "lQcZIEztYIUC"
      },
      "source": [
        "<h1 style=\"color:red;\">QUESTION 5: FEATURE IMPORTANCE</h1>"
      ]
    },
    {
      "cell_type": "markdown",
      "metadata": {
        "id": "tywuIVFZYIUC"
      },
      "source": [
        "**Analyze the feature importance values you just computed above. Do they make sense? Are there any values you are surprised by? Give some brief explanations as to why these features are relevant in computing the `trip_duration` target variable.**"
      ]
    },
    {
      "cell_type": "markdown",
      "metadata": {
        "id": "oUWqdPfcYIUC"
      },
      "source": [
        "*Type your response here...*"
      ]
    },
    {
      "cell_type": "markdown",
      "metadata": {
        "id": "4GpkV3NmYIUD"
      },
      "source": [
        "<hr>"
      ]
    },
    {
      "cell_type": "markdown",
      "metadata": {
        "id": "Ba3tYIzFYIUD"
      },
      "source": [
        "Great job! Now, make sure you check out the **Conclusion** section of the [instruction manual](https://courses.xpro.mit.edu/asset-v1:xPRO+DSx+R14+type@asset+block/4.1_instruction_manual_14.html) to wrap up this case study properly."
      ]
    }
  ]
}