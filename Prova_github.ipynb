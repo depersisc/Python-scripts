{
  "nbformat": 4,
  "nbformat_minor": 0,
  "metadata": {
    "colab": {
      "name": "Prova github.ipynb",
      "provenance": [],
      "authorship_tag": "ABX9TyPF+VhH03adLeVaKjxKHVZf",
      "include_colab_link": true
    },
    "kernelspec": {
      "name": "python3",
      "display_name": "Python 3"
    }
  },
  "cells": [
    {
      "cell_type": "markdown",
      "metadata": {
        "id": "view-in-github",
        "colab_type": "text"
      },
      "source": [
        "<a href=\"https://colab.research.google.com/github/depersisc/Python-scripts/blob/master/Prova_github.ipynb\" target=\"_parent\"><img src=\"https://colab.research.google.com/assets/colab-badge.svg\" alt=\"Open In Colab\"/></a>"
      ]
    },
    {
      "cell_type": "code",
      "metadata": {
        "id": "nFF39em10vj7"
      },
      "source": [
        "a=3\n",
        "print a"
      ],
      "execution_count": null,
      "outputs": []
    }
  ]
}